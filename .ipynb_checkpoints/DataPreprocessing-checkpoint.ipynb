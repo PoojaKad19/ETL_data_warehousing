{
 "cells": [
  {
   "cell_type": "code",
   "execution_count": 3,
   "id": "dcbc2c3d",
   "metadata": {},
   "outputs": [],
   "source": [
    "import pandas as pd\n",
    "import numpy as np\n",
    "import seaborn as sns\n",
    "import matplotlib.pyplot as plt\n"
   ]
  },
  {
   "cell_type": "code",
   "execution_count": 4,
   "id": "247923c5",
   "metadata": {},
   "outputs": [],
   "source": [
    "sales_df = pd.read_csv('/Users/kadam/Desktop/CS689/Project/Data/GlobalSuperstore_raw.csv', encoding='latin-1')"
   ]
  },
  {
   "cell_type": "code",
   "execution_count": 5,
   "id": "212cb5fb",
   "metadata": {},
   "outputs": [],
   "source": [
    "sales_df = sales_df.sort_values(by='Row ID')"
   ]
  },
  {
   "cell_type": "code",
   "execution_count": 6,
   "id": "c5890294",
   "metadata": {},
   "outputs": [
    {
     "name": "stdout",
     "output_type": "stream",
     "text": [
      "   Row ID        Order ID Order Date Ship Date       Ship Mode Customer ID  \\\n",
      "0       1  MX-2014-143658   02/10/14  06/10/14  Standard Class    SC-20575   \n",
      "1       2  MX-2012-155047   15/10/12  20/10/12  Standard Class    KW-16570   \n",
      "2       3  MX-2012-155047   15/10/12  20/10/12  Standard Class    KW-16570   \n",
      "3       4  MX-2012-155047   15/10/12  20/10/12  Standard Class    KW-16570   \n",
      "4       5  MX-2012-155047   15/10/12  20/10/12  Standard Class    KW-16570   \n",
      "\n",
      "    Customer Name   Segment           City             State  ...  \\\n",
      "0    Sonia Cooley  Consumer    Mexico City  Distrito Federal  ...   \n",
      "1  Kelly Williams  Consumer  Dos Quebradas         Risaralda  ...   \n",
      "2  Kelly Williams  Consumer  Dos Quebradas         Risaralda  ...   \n",
      "3  Kelly Williams  Consumer  Dos Quebradas         Risaralda  ...   \n",
      "4  Kelly Williams  Consumer  Dos Quebradas         Risaralda  ...   \n",
      "\n",
      "        Product ID         Category Sub-Category  \\\n",
      "0  OFF-LA-10002782  Office Supplies       Labels   \n",
      "1  FUR-FU-10004015        Furniture  Furnishings   \n",
      "2  FUR-BO-10002352        Furniture    Bookcases   \n",
      "3  OFF-BI-10004428  Office Supplies      Binders   \n",
      "4  OFF-AR-10004594  Office Supplies          Art   \n",
      "\n",
      "                         Product Name   Sales Quantity Discount Profit  \\\n",
      "0  Hon File Folder Labels, Adjustable   13.08        3      0.0   4.56   \n",
      "1                Tenex Clock, Durable  252.16        8      0.0  90.72   \n",
      "2        Ikea 3-Shelf Cabinet, Mobile  193.28        2      0.0  54.08   \n",
      "3              Cardinal Binder, Clear   35.44        4      0.0   4.96   \n",
      "4         Sanford Canvas, Water Color   71.60        2      0.0  11.44   \n",
      "\n",
      "   Shipping Cost  Order Priority  \n",
      "0           1.03          Medium  \n",
      "1          13.45          Medium  \n",
      "2           9.63          Medium  \n",
      "3           1.37          Medium  \n",
      "4           3.79          Medium  \n",
      "\n",
      "[5 rows x 24 columns]\n"
     ]
    }
   ],
   "source": [
    "print(sales_df.head(5))"
   ]
  },
  {
   "cell_type": "code",
   "execution_count": 7,
   "id": "b6d765df",
   "metadata": {},
   "outputs": [
    {
     "name": "stdout",
     "output_type": "stream",
     "text": [
      "Number of Rows: 51290\n",
      "Number of Columns: 24\n"
     ]
    }
   ],
   "source": [
    "# Getting the number of rows and columns\n",
    "num_rows, num_columns = sales_df.shape\n",
    "\n",
    "print(f\"Number of Rows: {num_rows}\")\n",
    "print(f\"Number of Columns: {num_columns}\")\n"
   ]
  },
  {
   "cell_type": "code",
   "execution_count": 8,
   "id": "c149118e",
   "metadata": {},
   "outputs": [],
   "source": [
    "income_df = pd.read_csv('/Users/kadam/Desktop/CS689/Project/Data/globalincomedata_raw.csv')"
   ]
  },
  {
   "cell_type": "code",
   "execution_count": 9,
   "id": "4642b0b9",
   "metadata": {},
   "outputs": [
    {
     "name": "stdout",
     "output_type": "stream",
     "text": [
      "       country  iso  GCAM_region_ID  year      REF gini_reported  \\\n",
      "0  Afghanistan  afg              27  1967  afg1967          0.29   \n",
      "1  Afghanistan  afg              27  1967  afg1967          0.29   \n",
      "2  Afghanistan  afg              27  1967  afg1967          0.29   \n",
      "3  Afghanistan  afg              27  1967  afg1967          0.29   \n",
      "4  Afghanistan  afg              27  1967  afg1967          0.29   \n",
      "\n",
      "   gdp_ppp_pc_usd2011  population Category  Income..net. gini_recalculated  \\\n",
      "0              1268.0  27722282.0       d1      0.032262       0.290652233   \n",
      "1              1268.0  27722282.0       d2      0.050450       0.290652233   \n",
      "2              1268.0  27722282.0       d3      0.061768       0.290652233   \n",
      "3              1268.0  27722282.0       d4      0.071800       0.290652233   \n",
      "4              1268.0  27722282.0       d5      0.081803       0.290652233   \n",
      "\n",
      "                     Data source  \n",
      "0  Imputed from GINI coefficient  \n",
      "1  Imputed from GINI coefficient  \n",
      "2  Imputed from GINI coefficient  \n",
      "3  Imputed from GINI coefficient  \n",
      "4  Imputed from GINI coefficient  \n"
     ]
    }
   ],
   "source": [
    "print(income_df.head(5))"
   ]
  },
  {
   "cell_type": "markdown",
   "id": "5d0068bd",
   "metadata": {},
   "source": [
    "### Pre-processing sales_df dataframe"
   ]
  },
  {
   "cell_type": "code",
   "execution_count": 10,
   "id": "064af768",
   "metadata": {},
   "outputs": [
    {
     "name": "stdout",
     "output_type": "stream",
     "text": [
      "Row ID            51290\n",
      "Order ID          51290\n",
      "Order Date        51290\n",
      "Ship Date         51290\n",
      "Ship Mode         51290\n",
      "Customer ID       51290\n",
      "Customer Name     51290\n",
      "Segment           51290\n",
      "City              51290\n",
      "State             51290\n",
      "Country           51290\n",
      "Postal Code        9994\n",
      "Market            51290\n",
      "Region            51290\n",
      "Product ID        51290\n",
      "Category          51290\n",
      "Sub-Category      51290\n",
      "Product Name      51290\n",
      "Sales             51290\n",
      "Quantity          51290\n",
      "Discount          51290\n",
      "Profit            51290\n",
      "Shipping Cost     51290\n",
      "Order Priority    51290\n",
      "dtype: int64\n"
     ]
    }
   ],
   "source": [
    "column_row_counts = sales_df.count()\n",
    "print(column_row_counts)"
   ]
  },
  {
   "cell_type": "code",
   "execution_count": 11,
   "id": "9520ee83",
   "metadata": {},
   "outputs": [
    {
     "name": "stdout",
     "output_type": "stream",
     "text": [
      "Row ID                0\n",
      "Order ID              0\n",
      "Order Date            0\n",
      "Ship Date             0\n",
      "Ship Mode             0\n",
      "Customer ID           0\n",
      "Customer Name         0\n",
      "Segment               0\n",
      "City                  0\n",
      "State                 0\n",
      "Country               0\n",
      "Postal Code       41296\n",
      "Market                0\n",
      "Region                0\n",
      "Product ID            0\n",
      "Category              0\n",
      "Sub-Category          0\n",
      "Product Name          0\n",
      "Sales                 0\n",
      "Quantity              0\n",
      "Discount              0\n",
      "Profit                0\n",
      "Shipping Cost         0\n",
      "Order Priority        0\n",
      "dtype: int64\n"
     ]
    }
   ],
   "source": [
    "# Checking for missing values\n",
    "print(sales_df.isnull().sum())"
   ]
  },
  {
   "cell_type": "code",
   "execution_count": 12,
   "id": "0f904eb0",
   "metadata": {},
   "outputs": [],
   "source": [
    "# Since the missing values for column Postal code is more, this column will be dropped\n",
    "sales_df = sales_df.dropna(axis=1)\n"
   ]
  },
  {
   "cell_type": "code",
   "execution_count": 13,
   "id": "8a32fa81",
   "metadata": {},
   "outputs": [
    {
     "name": "stdout",
     "output_type": "stream",
     "text": [
      "Row ID            0\n",
      "Order ID          0\n",
      "Order Date        0\n",
      "Ship Date         0\n",
      "Ship Mode         0\n",
      "Customer ID       0\n",
      "Customer Name     0\n",
      "Segment           0\n",
      "City              0\n",
      "State             0\n",
      "Country           0\n",
      "Market            0\n",
      "Region            0\n",
      "Product ID        0\n",
      "Category          0\n",
      "Sub-Category      0\n",
      "Product Name      0\n",
      "Sales             0\n",
      "Quantity          0\n",
      "Discount          0\n",
      "Profit            0\n",
      "Shipping Cost     0\n",
      "Order Priority    0\n",
      "dtype: int64\n"
     ]
    }
   ],
   "source": [
    "print(sales_df.isnull().sum())"
   ]
  },
  {
   "cell_type": "code",
   "execution_count": 14,
   "id": "8864fce6",
   "metadata": {},
   "outputs": [],
   "source": [
    "# Converting 'Order Date' and 'Ship Date' to datetime type\n",
    "sales_df['Order Date'] = pd.to_datetime(sales_df['Order Date'], format='%d/%m/%y')\n",
    "sales_df['Ship Date'] = pd.to_datetime(sales_df['Ship Date'], format='%d/%m/%y')\n"
   ]
  },
  {
   "cell_type": "code",
   "execution_count": 15,
   "id": "7e26d20a",
   "metadata": {},
   "outputs": [],
   "source": [
    "# Extracting year and month from 'Order Date'\n",
    "sales_df['Order Year'] = sales_df['Order Date'].dt.year\n",
    "sales_df['Order Month'] = sales_df['Order Date'].dt.month\n"
   ]
  },
  {
   "cell_type": "code",
   "execution_count": 16,
   "id": "f738f845",
   "metadata": {},
   "outputs": [
    {
     "name": "stdout",
     "output_type": "stream",
     "text": [
      "   Row ID        Order ID Order Date  Ship Date       Ship Mode Customer ID  \\\n",
      "0       1  MX-2014-143658 2014-10-02 2014-10-06  Standard Class    SC-20575   \n",
      "1       2  MX-2012-155047 2012-10-15 2012-10-20  Standard Class    KW-16570   \n",
      "2       3  MX-2012-155047 2012-10-15 2012-10-20  Standard Class    KW-16570   \n",
      "3       4  MX-2012-155047 2012-10-15 2012-10-20  Standard Class    KW-16570   \n",
      "4       5  MX-2012-155047 2012-10-15 2012-10-20  Standard Class    KW-16570   \n",
      "\n",
      "    Customer Name   Segment           City             State  ...  \\\n",
      "0    Sonia Cooley  Consumer    Mexico City  Distrito Federal  ...   \n",
      "1  Kelly Williams  Consumer  Dos Quebradas         Risaralda  ...   \n",
      "2  Kelly Williams  Consumer  Dos Quebradas         Risaralda  ...   \n",
      "3  Kelly Williams  Consumer  Dos Quebradas         Risaralda  ...   \n",
      "4  Kelly Williams  Consumer  Dos Quebradas         Risaralda  ...   \n",
      "\n",
      "  Sub-Category                        Product Name   Sales Quantity Discount  \\\n",
      "0       Labels  Hon File Folder Labels, Adjustable   13.08        3      0.0   \n",
      "1  Furnishings                Tenex Clock, Durable  252.16        8      0.0   \n",
      "2    Bookcases        Ikea 3-Shelf Cabinet, Mobile  193.28        2      0.0   \n",
      "3      Binders              Cardinal Binder, Clear   35.44        4      0.0   \n",
      "4          Art         Sanford Canvas, Water Color   71.60        2      0.0   \n",
      "\n",
      "  Profit Shipping Cost  Order Priority  Order Year  Order Month  \n",
      "0   4.56          1.03          Medium        2014           10  \n",
      "1  90.72         13.45          Medium        2012           10  \n",
      "2  54.08          9.63          Medium        2012           10  \n",
      "3   4.96          1.37          Medium        2012           10  \n",
      "4  11.44          3.79          Medium        2012           10  \n",
      "\n",
      "[5 rows x 25 columns]\n"
     ]
    }
   ],
   "source": [
    "print(sales_df.head())"
   ]
  },
  {
   "cell_type": "code",
   "execution_count": 17,
   "id": "094958a6",
   "metadata": {},
   "outputs": [
    {
     "name": "stdout",
     "output_type": "stream",
     "text": [
      "DataFrame has been successfully written\n"
     ]
    }
   ],
   "source": [
    "sales_df.to_csv('/Users/kadam/Desktop/CS689/Project/Data/processedsalesdata.csv', index=False)  \n",
    "\n",
    "print(f'DataFrame has been successfully written')"
   ]
  },
  {
   "cell_type": "markdown",
   "id": "04e7b99e",
   "metadata": {},
   "source": [
    "### Pre-processing income_df dataframe"
   ]
  },
  {
   "cell_type": "code",
   "execution_count": 18,
   "id": "35e203f8",
   "metadata": {},
   "outputs": [
    {
     "name": "stdout",
     "output_type": "stream",
     "text": [
      "Number of Rows: 85220\n",
      "Number of Columns: 12\n"
     ]
    }
   ],
   "source": [
    "# Getting the number of rows and columns\n",
    "num_rows, num_columns = income_df.shape\n",
    "\n",
    "print(f\"Number of Rows: {num_rows}\")\n",
    "print(f\"Number of Columns: {num_columns}\")"
   ]
  },
  {
   "cell_type": "code",
   "execution_count": 19,
   "id": "8d02f40b",
   "metadata": {},
   "outputs": [
    {
     "name": "stdout",
     "output_type": "stream",
     "text": [
      "country               0\n",
      "iso                   0\n",
      "GCAM_region_ID        0\n",
      "year                  0\n",
      "REF                   0\n",
      "gini_reported         0\n",
      "gdp_ppp_pc_usd2011    0\n",
      "population            0\n",
      "Category              0\n",
      "Income..net.          0\n",
      "gini_recalculated     0\n",
      "Data source           0\n",
      "dtype: int64\n"
     ]
    }
   ],
   "source": [
    "# Checking for missing values\n",
    "print(income_df.isnull().sum())"
   ]
  },
  {
   "cell_type": "code",
   "execution_count": 20,
   "id": "fb0685b4",
   "metadata": {
    "scrolled": true
   },
   "outputs": [
    {
     "name": "stdout",
     "output_type": "stream",
     "text": [
      "<class 'pandas.core.frame.DataFrame'>\n",
      "RangeIndex: 85220 entries, 0 to 85219\n",
      "Data columns (total 12 columns):\n",
      " #   Column              Non-Null Count  Dtype  \n",
      "---  ------              --------------  -----  \n",
      " 0   country             85220 non-null  object \n",
      " 1   iso                 85220 non-null  object \n",
      " 2   GCAM_region_ID      85220 non-null  int64  \n",
      " 3   year                85220 non-null  int64  \n",
      " 4   REF                 85220 non-null  object \n",
      " 5   gini_reported       85220 non-null  object \n",
      " 6   gdp_ppp_pc_usd2011  85220 non-null  float64\n",
      " 7   population          85220 non-null  float64\n",
      " 8   Category            85220 non-null  object \n",
      " 9   Income..net.        85220 non-null  float64\n",
      " 10  gini_recalculated   85220 non-null  object \n",
      " 11  Data source         85220 non-null  object \n",
      "dtypes: float64(3), int64(2), object(7)\n",
      "memory usage: 7.8+ MB\n",
      "None\n"
     ]
    }
   ],
   "source": [
    "print(income_df.info())"
   ]
  },
  {
   "cell_type": "code",
   "execution_count": 21,
   "id": "57a36c9f",
   "metadata": {},
   "outputs": [],
   "source": [
    "\n",
    "income_df['gini_recalculated'] = pd.to_numeric(income_df['gini_recalculated'], errors='coerce')"
   ]
  },
  {
   "cell_type": "code",
   "execution_count": 22,
   "id": "0302d1f5",
   "metadata": {},
   "outputs": [],
   "source": [
    "income_df.drop(['REF', 'Data source', 'gini_reported'], axis=1, inplace=True)"
   ]
  },
  {
   "cell_type": "code",
   "execution_count": 23,
   "id": "a189f5aa",
   "metadata": {},
   "outputs": [
    {
     "name": "stdout",
     "output_type": "stream",
     "text": [
      "       Country  ISO  Region_ID  Year  GDP_PPC_USD2011  Population  \\\n",
      "0  Afghanistan  afg         27  1967           1268.0  27722282.0   \n",
      "1  Afghanistan  afg         27  1967           1268.0  27722282.0   \n",
      "2  Afghanistan  afg         27  1967           1268.0  27722282.0   \n",
      "3  Afghanistan  afg         27  1967           1268.0  27722282.0   \n",
      "4  Afghanistan  afg         27  1967           1268.0  27722282.0   \n",
      "\n",
      "  Income_Category  Net_Income  Gini_coeff  \n",
      "0              d1    0.032262    0.290652  \n",
      "1              d2    0.050450    0.290652  \n",
      "2              d3    0.061768    0.290652  \n",
      "3              d4    0.071800    0.290652  \n",
      "4              d5    0.081803    0.290652  \n"
     ]
    }
   ],
   "source": [
    "column_mapping = {\n",
    "    'country': 'Country',\n",
    "    'iso': 'ISO',\n",
    "    'GCAM_region_ID': 'Region_ID',\n",
    "    'year': 'Year',\n",
    "    'gdp_ppp_pc_usd2011': 'GDP_PPC_USD2011',\n",
    "    'population': 'Population',\n",
    "    'Category': 'Income_Category',\n",
    "    'Income..net.': 'Net_Income',\n",
    "    'gini_recalculated': 'Gini_coeff',\n",
    "}\n",
    "income_df.rename(columns=column_mapping, inplace=True)\n",
    "\n",
    "print(income_df.head())"
   ]
  },
  {
   "cell_type": "code",
   "execution_count": 24,
   "id": "e5ae456a",
   "metadata": {},
   "outputs": [
    {
     "name": "stdout",
     "output_type": "stream",
     "text": [
      "DataFrame has been successfully written\n"
     ]
    }
   ],
   "source": [
    "income_df.to_csv('/Users/kadam/Desktop/CS689/Project/Data/processedincomedata.csv', index=False)  \n",
    "\n",
    "print(f'DataFrame has been successfully written')"
   ]
  },
  {
   "cell_type": "code",
   "execution_count": null,
   "id": "45a9dafb",
   "metadata": {},
   "outputs": [],
   "source": []
  }
 ],
 "metadata": {
  "kernelspec": {
   "display_name": "Python 3 (ipykernel)",
   "language": "python",
   "name": "python3"
  },
  "language_info": {
   "codemirror_mode": {
    "name": "ipython",
    "version": 3
   },
   "file_extension": ".py",
   "mimetype": "text/x-python",
   "name": "python",
   "nbconvert_exporter": "python",
   "pygments_lexer": "ipython3",
   "version": "3.9.13"
  }
 },
 "nbformat": 4,
 "nbformat_minor": 5
}
